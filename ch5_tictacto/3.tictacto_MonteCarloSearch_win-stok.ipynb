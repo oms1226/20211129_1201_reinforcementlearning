{
 "cells": [
  {
   "cell_type": "code",
   "execution_count": 8,
   "metadata": {
    "executionInfo": {
     "elapsed": 871,
     "status": "ok",
     "timestamp": 1609054112387,
     "user": {
      "displayName": "김수현",
      "photoUrl": "",
      "userId": "03106063162344337012"
     },
     "user_tz": -540
    },
    "id": "V7iYyx1xjuTC"
   },
   "outputs": [],
   "source": [
    "# 틱택토 구현\n",
    "import random\n",
    "\n",
    "# 게임 상태\n",
    "class State:\n",
    "    # 초기화\n",
    "    def __init__(self, pieces=None, enemy_pieces=None):\n",
    "        # 돌 배치\n",
    "        self.pieces = pieces if pieces != None else [0] * 9\n",
    "        self.enemy_pieces = enemy_pieces if enemy_pieces != None else [0] * 9\n",
    "\n",
    "    # 돌의 수 취득\n",
    "    def piece_count(self, pieces):\n",
    "        count = 0\n",
    "        for i in pieces:\n",
    "            if i == 1:\n",
    "                count +=  1\n",
    "        return count\n",
    "\n",
    "    # 패배 여부 확인\n",
    "    def is_lose(self):\n",
    "        # 돌 3개 연결 여부\n",
    "        def is_comp(x, y, dx, dy):\n",
    "            for k in range(3):\n",
    "                if y < 0 or 2 < y or x < 0 or 2 < x or \\\n",
    "                    self.enemy_pieces[x+y*3] == 0:\n",
    "                    return False\n",
    "                x, y = x+dx, y+dy\n",
    "            return True\n",
    "\n",
    "        # 배패 여부 확인\n",
    "        if is_comp(0, 0, 1, 1) or is_comp(0, 2, 1, -1):\n",
    "            return True\n",
    "        for i in range(3):\n",
    "            if is_comp(0, i, 1, 0) or is_comp(i, 0, 0, 1):\n",
    "                return True\n",
    "        return False\n",
    "\n",
    "    # 무승부 여부 확인\n",
    "    def is_draw(self):\n",
    "        return self.piece_count(self.pieces) + self.piece_count(self.enemy_pieces) == 9\n",
    "\n",
    "    # 게임 종료 여부 확인\n",
    "    def is_done(self):\n",
    "        return self.is_lose() or self.is_draw()\n",
    "\n",
    "    # 다음 상태 얻기\n",
    "    def next(self, action):\n",
    "        pieces = self.pieces.copy()\n",
    "        pieces[action] = 1\n",
    "        return State(self.enemy_pieces, pieces)\n",
    "\n",
    "    # 합법적인 수의 리스트 얻기\n",
    "    def legal_actions(self):\n",
    "        actions = []\n",
    "        for i in range(9):\n",
    "            if self.pieces[i] == 0 and self.enemy_pieces[i] == 0:\n",
    "                actions.append(i)\n",
    "        return actions\n",
    "\n",
    "    # 선 수 여부 확인\n",
    "    def is_first_player(self):\n",
    "        return self.piece_count(self.pieces) == self.piece_count(self.enemy_pieces)\n",
    "\n",
    "    # 문자열 표시\n",
    "    def __str__(self):\n",
    "        ox = ('o', 'x') if self.is_first_player() else ('x', 'o')\n",
    "        str = ''\n",
    "        for i in range(9):\n",
    "            if self.pieces[i] == 1:\n",
    "                str += ox[0]\n",
    "            elif self.enemy_pieces[i] == 1:\n",
    "                str += ox[1]\n",
    "            else:\n",
    "                str += '-'\n",
    "            if i % 3 == 2:\n",
    "                str += '\\n'\n",
    "        return str"
   ]
  },
  {
   "cell_type": "code",
   "execution_count": 9,
   "metadata": {
    "executionInfo": {
     "elapsed": 1391,
     "status": "ok",
     "timestamp": 1609054112910,
     "user": {
      "displayName": "김수현",
      "photoUrl": "",
      "userId": "03106063162344337012"
     },
     "user_tz": -540
    },
    "id": "mCuhHi5yjuTF"
   },
   "outputs": [],
   "source": [
    "# 랜덤으로 행동 선택\n",
    "def random_action(state):\n",
    "    legal_actions = state.legal_actions()\n",
    "    return legal_actions[random.randint(0, len(legal_actions)-1)]"
   ]
  },
  {
   "cell_type": "code",
   "execution_count": 10,
   "metadata": {
    "executionInfo": {
     "elapsed": 1388,
     "status": "ok",
     "timestamp": 1609054112911,
     "user": {
      "displayName": "김수현",
      "photoUrl": "",
      "userId": "03106063162344337012"
     },
     "user_tz": -540
    },
    "id": "I_MPe0l3juTI"
   },
   "outputs": [],
   "source": [
    "# 알파베타법을 활용한 상태 가치 계산\n",
    "def alpha_beta(state, alpha, beta):\n",
    "    # 패배 시, 상태 가치 -1\n",
    "    if state.is_lose():\n",
    "        return -1\n",
    "    \n",
    "    # 무승부 시, 상태 가치 0\n",
    "    if state.is_draw():\n",
    "        return  0\n",
    "\n",
    "    # 합법적인 수의 상태 가치 계산\n",
    "    for action in state.legal_actions():\n",
    "        score = -alpha_beta(state.next(action), -beta, -alpha)\n",
    "        if score > alpha:\n",
    "            alpha = score\n",
    "\n",
    "        # 현재 노드의 베스트 스코어가 새로운 노드보다 크면 탐색 종료\n",
    "        if alpha >= beta:\n",
    "            return alpha\n",
    "\n",
    "    # 합법적인 수의 상태 가치의 최대값을 반환\n",
    "    return alpha\n",
    "\n",
    "# 알파베타법을 활용한 행동 선택\n",
    "def alpha_beta_action(state):\n",
    "    # 합법적인 수의 상태 가치 계산\n",
    "    best_action = 0\n",
    "    alpha = -float('inf')\n",
    "    for action in state.legal_actions():\n",
    "        score = -alpha_beta(state.next(action), -float('inf'), -alpha)\n",
    "        if score > alpha:\n",
    "            best_action = action\n",
    "            alpha = score\n",
    "            \n",
    "    # 합법적인 수의 상태 가치값 중 최대값을 선택하는 행동 반환\n",
    "    return best_action"
   ]
  },
  {
   "cell_type": "code",
   "execution_count": 11,
   "metadata": {
    "executionInfo": {
     "elapsed": 1384,
     "status": "ok",
     "timestamp": 1609054112912,
     "user": {
      "displayName": "김수현",
      "photoUrl": "",
      "userId": "03106063162344337012"
     },
     "user_tz": -540
    },
    "id": "JX5wNqvEjuTK"
   },
   "outputs": [],
   "source": [
    "# 플레이아웃\n",
    "def playout(state):\n",
    "    # 패배 시, 상태 가치 -1\n",
    "    if state.is_lose():\n",
    "        return -1\n",
    "    \n",
    "    # 무승부 시, 상태 가치 0\n",
    "    if state.is_draw():\n",
    "        return  0\n",
    "    \n",
    "    # 다음 상태의 상태 평가\n",
    "    return -playout(state.next(random_action(state)))"
   ]
  },
  {
   "cell_type": "code",
   "execution_count": 12,
   "metadata": {
    "executionInfo": {
     "elapsed": 1380,
     "status": "ok",
     "timestamp": 1609054112913,
     "user": {
      "displayName": "김수현",
      "photoUrl": "",
      "userId": "03106063162344337012"
     },
     "user_tz": -540
    },
    "id": "DBMgjC79juTM"
   },
   "outputs": [],
   "source": [
    "# 원시 몬테카를로 탐색을 활용한 행동 선택\n",
    "def mcs_action(state):\n",
    "    # 합법적인 수 별로 10회 플레이아웃 시행 후, 상태 가치의 합계 계산\n",
    "    legal_actions = state.legal_actions()\n",
    "    values = [0] * len(legal_actions)\n",
    "    for i, action in enumerate(legal_actions):\n",
    "        for _ in range(100):#10->100\n",
    "            values[i] += -playout(state.next(action))\n",
    "\n",
    "    # 합법적인 수의 상태 가치 합계의 최대값을 가지는 행동 반환\n",
    "    return legal_actions[argmax(values)]\n",
    "\n",
    "# 최대값의 인덱스를 반환\n",
    "def argmax(collection, key=None):\n",
    "    return collection.index(max(collection))"
   ]
  },
  {
   "cell_type": "code",
   "execution_count": 13,
   "metadata": {
    "colab": {
     "base_uri": "https://localhost:8080/"
    },
    "executionInfo": {
     "elapsed": 11758,
     "status": "ok",
     "timestamp": 1609054123310,
     "user": {
      "displayName": "김수현",
      "photoUrl": "",
      "userId": "03106063162344337012"
     },
     "user_tz": -540
    },
    "id": "m2ojwP7VjuTO",
    "outputId": "7aa70e98-ffb0-4922-e647-c4a807849a1e"
   },
   "outputs": [
    {
     "name": "stdout",
     "output_type": "stream",
     "text": [
      "Evaluate 100/100\n",
      "VS_Random 0.935\n",
      "Evaluate 100/100\n",
      "VS_AlphaBeta 0.460\n"
     ]
    }
   ],
   "source": [
    "# 원시 몬테카를로 탐색 vs 랜덤/알파베타법의 대전\n",
    "\n",
    "# 파라미터\n",
    "EP_GAME_COUNT = 100  # 평가 1회 당 게임 수\n",
    "\n",
    "# 선 수 플레이어 포인트\n",
    "def first_player_point(ended_state):\n",
    "    # 1: 선 수 플레이어 승리, 0: 선 수 플레이어 패배, 0.5: 무승부\n",
    "    if ended_state.is_lose():\n",
    "        return 0 if ended_state.is_first_player() else 1\n",
    "    return 0.5\n",
    "\n",
    "# 1 게임 실행\n",
    "def play(next_actions):\n",
    "    # 상태 생성\n",
    "    state = State()\n",
    "\n",
    "    # 게임 종료 시까지 반복\n",
    "    while True:\n",
    "        # 게임 종료 시\n",
    "        if state.is_done():\n",
    "            break\n",
    "\n",
    "        # 행동 얻기\n",
    "        next_action = next_actions[0] if state.is_first_player() else next_actions[1]\n",
    "        action = next_action(state)\n",
    "\n",
    "        # 다음 상태 얻기\n",
    "        state = state.next(action)\n",
    "\n",
    "    # 선 수 플레이어 포인트 반환\n",
    "    return first_player_point(state)\n",
    "\n",
    "# 임의의 알고리즘 평가\n",
    "def evaluate_algorithm_of(label, next_actions):\n",
    "    # 여러 차례 대전 반복\n",
    "    total_point = 0\n",
    "    for i in range(EP_GAME_COUNT):\n",
    "        # 1 게임 실행\n",
    "        if i % 2 == 0:\n",
    "            total_point += play(next_actions)\n",
    "        else:\n",
    "            total_point += 1 - play(list(reversed(next_actions)))\n",
    "\n",
    "        # 출력\n",
    "        print('\\rEvaluate {}/{}'.format(i + 1, EP_GAME_COUNT), end='')\n",
    "    print('')\n",
    "\n",
    "    # 평균 포인트 계산\n",
    "    average_point = total_point / EP_GAME_COUNT\n",
    "    print(label.format(average_point))\n",
    "\n",
    "# VS. 랜덤\n",
    "next_actions = (mcs_action, random_action)\n",
    "evaluate_algorithm_of('VS_Random {:.3f}', next_actions)\n",
    "\n",
    "# VS. 알파베타법\n",
    "next_actions = (mcs_action, alpha_beta_action)\n",
    "evaluate_algorithm_of('VS_AlphaBeta {:.3f}', next_actions)"
   ]
  }
 ],
 "metadata": {
  "accelerator": "GPU",
  "colab": {
   "collapsed_sections": [],
   "name": "3.tictacto_MonteCarloSearch-stok.ipynb",
   "provenance": []
  },
  "kernelspec": {
   "display_name": "Python 3 (ipykernel)",
   "language": "python",
   "name": "python3"
  },
  "language_info": {
   "codemirror_mode": {
    "name": "ipython",
    "version": 3
   },
   "file_extension": ".py",
   "mimetype": "text/x-python",
   "name": "python",
   "nbconvert_exporter": "python",
   "pygments_lexer": "ipython3",
   "version": "3.7.11"
  }
 },
 "nbformat": 4,
 "nbformat_minor": 1
}
