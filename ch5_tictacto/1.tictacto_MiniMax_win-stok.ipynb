{
 "cells": [
  {
   "cell_type": "code",
   "execution_count": 1,
   "metadata": {
    "executionInfo": {
     "elapsed": 1141,
     "status": "ok",
     "timestamp": 1608989773800,
     "user": {
      "displayName": "김수현",
      "photoUrl": "",
      "userId": "03106063162344337012"
     },
     "user_tz": -540
    },
    "id": "3-VTiTmGd71N"
   },
   "outputs": [],
   "source": [
    "# 틱택토 구현\n",
    "import random\n",
    "\n",
    "# 게임 상태\n",
    "class State:\n",
    "    # 초기화\n",
    "    def __init__(self, pieces=None, enemy_pieces=None):\n",
    "        # 돌 배치\n",
    "        self.pieces = pieces if pieces != None else [0] * 9\n",
    "        self.enemy_pieces = enemy_pieces if enemy_pieces != None else [0] * 9\n",
    "\n",
    "    # 돌의 수 취득\n",
    "    def piece_count(self, pieces):\n",
    "        count = 0\n",
    "        for i in pieces:\n",
    "            if i == 1:\n",
    "                count +=  1\n",
    "        return count\n",
    "\n",
    "    # 패배 여부 확인\n",
    "    def is_lose(self):\n",
    "        # 돌 3개 연결 여부\n",
    "        def is_comp(x, y, dx, dy):\n",
    "            for k in range(3):\n",
    "                if y < 0 or 2 < y or x < 0 or 2 < x or \\\n",
    "                    self.enemy_pieces[x+y*3] == 0:\n",
    "                    return False\n",
    "                x, y = x+dx, y+dy\n",
    "            return True\n",
    "\n",
    "        # 패배 여부 확인\n",
    "        if is_comp(0, 0, 1, 1) or is_comp(0, 2, 1, -1):\n",
    "            return True\n",
    "        for i in range(3):\n",
    "            if is_comp(0, i, 1, 0) or is_comp(i, 0, 0, 1):\n",
    "                return True\n",
    "        return False\n",
    "\n",
    "    # 무승부 여부 확인\n",
    "    def is_draw(self):\n",
    "        return self.piece_count(self.pieces) + self.piece_count(self.enemy_pieces) == 9\n",
    "\n",
    "    # 게임 종료 여부 확인\n",
    "    def is_done(self):\n",
    "        return self.is_lose() or self.is_draw()\n",
    "\n",
    "    # 다음 상태 얻기\n",
    "    def next(self, action):\n",
    "        pieces = self.pieces.copy()\n",
    "        pieces[action] = 1\n",
    "        return State(self.enemy_pieces, pieces)\n",
    "\n",
    "    # 합법적인 수의 리스트 얻기\n",
    "    def legal_actions(self):\n",
    "        actions = []\n",
    "        for i in range(9):\n",
    "            if self.pieces[i] == 0 and self.enemy_pieces[i] == 0:\n",
    "                actions.append(i)\n",
    "        return actions\n",
    "\n",
    "    # 선 수 여부 확인\n",
    "    def is_first_player(self):\n",
    "        return self.piece_count(self.pieces) == self.piece_count(self.enemy_pieces)\n",
    "\n",
    "    # 문자열 표시\n",
    "    def __str__(self):\n",
    "        ox = ('o', 'x') if self.is_first_player() else ('x', 'o')\n",
    "        str = ''\n",
    "        for i in range(9):\n",
    "            if self.pieces[i] == 1:\n",
    "                str += ox[0]\n",
    "            elif self.enemy_pieces[i] == 1:\n",
    "                str += ox[1]\n",
    "            else:\n",
    "                str += '-'\n",
    "            if i % 3 == 2:\n",
    "                str += '\\n'\n",
    "        return str"
   ]
  },
  {
   "cell_type": "code",
   "execution_count": 2,
   "metadata": {
    "executionInfo": {
     "elapsed": 1137,
     "status": "ok",
     "timestamp": 1608989773802,
     "user": {
      "displayName": "김수현",
      "photoUrl": "",
      "userId": "03106063162344337012"
     },
     "user_tz": -540
    },
    "id": "dfmBvaxdd71R"
   },
   "outputs": [],
   "source": [
    "# 랜덤으로 행동 선택\n",
    "def random_action(state):\n",
    "    legal_actions = state.legal_actions()\n",
    "    return legal_actions[random.randint(0, len(legal_actions)-1)]"
   ]
  },
  {
   "cell_type": "code",
   "execution_count": 3,
   "metadata": {
    "colab": {
     "base_uri": "https://localhost:8080/"
    },
    "executionInfo": {
     "elapsed": 1110,
     "status": "ok",
     "timestamp": 1608989773803,
     "user": {
      "displayName": "김수현",
      "photoUrl": "",
      "userId": "03106063162344337012"
     },
     "user_tz": -540
    },
    "id": "l0Aopsh8d71T",
    "outputId": "fa85fac5-f48b-45b1-c1e7-3814b0fded5a"
   },
   "outputs": [
    {
     "name": "stdout",
     "output_type": "stream",
     "text": [
      "---\n",
      "---\n",
      "--o\n",
      "\n",
      "\n",
      "---\n",
      "---\n",
      "-xo\n",
      "\n",
      "\n",
      "--o\n",
      "---\n",
      "-xo\n",
      "\n",
      "\n",
      "--o\n",
      "-x-\n",
      "-xo\n",
      "\n",
      "\n",
      "--o\n",
      "ox-\n",
      "-xo\n",
      "\n",
      "\n",
      "--o\n",
      "oxx\n",
      "-xo\n",
      "\n",
      "\n",
      "-oo\n",
      "oxx\n",
      "-xo\n",
      "\n",
      "\n",
      "xoo\n",
      "oxx\n",
      "-xo\n",
      "\n",
      "\n",
      "xoo\n",
      "oxx\n",
      "oxo\n",
      "\n",
      "\n"
     ]
    }
   ],
   "source": [
    "# 랜덤과 랜덤의 대전\n",
    "\n",
    "# 상태 생성\n",
    "state = State()\n",
    "\n",
    "# 게임 종료 시까지 반복\n",
    "while True:\n",
    "    # 게임 종료 시\n",
    "    if state.is_done():\n",
    "        break;\n",
    "\n",
    "    # 행동 얻기\n",
    "    action = random_action(state)\n",
    "\n",
    "    # 다음 상태 얻기\n",
    "    state = state.next(action)\n",
    "\n",
    "    # 문자열 표시\n",
    "    print(state)\n",
    "    print()"
   ]
  },
  {
   "cell_type": "code",
   "execution_count": 4,
   "metadata": {
    "executionInfo": {
     "elapsed": 937,
     "status": "ok",
     "timestamp": 1608989785747,
     "user": {
      "displayName": "김수현",
      "photoUrl": "",
      "userId": "03106063162344337012"
     },
     "user_tz": -540
    },
    "id": "vjdzjI6Td71Y"
   },
   "outputs": [],
   "source": [
    "# 미니맥스법을 활용한 상태 가치 계산\n",
    "def mini_max(state):\n",
    "    # 패배 시, 상태 가치 -1\n",
    "    if state.is_lose():\n",
    "        return -1\n",
    "    \n",
    "    # 무승부 시, 상태 가치 0\n",
    "    if state.is_draw():\n",
    "        return  0\n",
    "\n",
    "    # 합법적인 수의 상태 가치 계산\n",
    "    best_score = -float('inf')\n",
    "    for action in state.legal_actions():\n",
    "        score = -mini_max(state.next(action))\n",
    "        if score > best_score:\n",
    "            best_score = score\n",
    "            \n",
    "    # 합법적인 수의 상태 가치값 중 최대값 선택\n",
    "    return best_score\n",
    "\n",
    "# 미니맥스법을 활용한 행동 선택\n",
    "def mini_max_action(state):\n",
    "    # 합법적인 수의 상태 가치 계산\n",
    "    best_action = 0\n",
    "    best_score = -float('inf')\n",
    "    str = ['','']\n",
    "    for action in state.legal_actions():\n",
    "        score = -mini_max(state.next(action))\n",
    "        if score > best_score:\n",
    "            best_action = action\n",
    "            best_score  = score\n",
    "            \n",
    "        str[0] = '{}{:2d},'.format(str[0], action)\n",
    "        str[1] = '{}{:2d},'.format(str[1], score)\n",
    "    print('action:', str[0], '\\nscore: ', str[1], '\\n')\n",
    "\n",
    "    # 합법적인 수의 상태 가치의 최대값을 가진 행동 반환\n",
    "    return best_action"
   ]
  },
  {
   "cell_type": "code",
   "execution_count": 5,
   "metadata": {
    "colab": {
     "base_uri": "https://localhost:8080/"
    },
    "executionInfo": {
     "elapsed": 5146,
     "status": "ok",
     "timestamp": 1608989790980,
     "user": {
      "displayName": "김수현",
      "photoUrl": "",
      "userId": "03106063162344337012"
     },
     "user_tz": -540
    },
    "id": "BwIqrO85d71a",
    "outputId": "1adcec5a-2c59-4647-a09f-4c6be280bc31"
   },
   "outputs": [
    {
     "name": "stdout",
     "output_type": "stream",
     "text": [
      "action:  0, 1, 2, 3, 4, 5, 6, 7, 8, \n",
      "score:   0, 0, 0, 0, 0, 0, 0, 0, 0, \n",
      "\n",
      "o--\n",
      "---\n",
      "---\n",
      "\n",
      "\n",
      "o--\n",
      "---\n",
      "-x-\n",
      "\n",
      "\n",
      "action:  1, 2, 3, 4, 5, 6, 8, \n",
      "score:   0, 1,-1, 1, 0, 1, 0, \n",
      "\n",
      "o-o\n",
      "---\n",
      "-x-\n",
      "\n",
      "\n",
      "o-o\n",
      "x--\n",
      "-x-\n",
      "\n",
      "\n",
      "action:  1, 4, 5, 6, 8, \n",
      "score:   1, 1, 1, 1, 1, \n",
      "\n",
      "ooo\n",
      "x--\n",
      "-x-\n",
      "\n",
      "\n"
     ]
    }
   ],
   "source": [
    "# 미니맥스법과 랜덤의 대전\n",
    "\n",
    "# 상태 생성\n",
    "state = State()\n",
    "\n",
    "# 게임 종료 시까지 반복\n",
    "while True:\n",
    "    # 게임 종료 시\n",
    "    if state.is_done():\n",
    "        break\n",
    "\n",
    "    # 행동 얻기\n",
    "    if state.is_first_player():\n",
    "        action = mini_max_action(state)\n",
    "    else:\n",
    "        action = random_action(state)\n",
    "    \n",
    "    # 다음 상태 얻기\n",
    "    state = state.next(action)\n",
    "\n",
    "    # 문자열 표시\n",
    "    print(state)\n",
    "    print()"
   ]
  },
  {
   "cell_type": "code",
   "execution_count": null,
   "metadata": {
    "id": "JOH77TH8Q76m"
   },
   "outputs": [],
   "source": []
  }
 ],
 "metadata": {
  "colab": {
   "collapsed_sections": [],
   "name": "1.tictacto_MiniMax-org.ipynb",
   "provenance": []
  },
  "kernelspec": {
   "display_name": "Python 3 (ipykernel)",
   "language": "python",
   "name": "python3"
  },
  "language_info": {
   "codemirror_mode": {
    "name": "ipython",
    "version": 3
   },
   "file_extension": ".py",
   "mimetype": "text/x-python",
   "name": "python",
   "nbconvert_exporter": "python",
   "pygments_lexer": "ipython3",
   "version": "3.7.11"
  }
 },
 "nbformat": 4,
 "nbformat_minor": 1
}
