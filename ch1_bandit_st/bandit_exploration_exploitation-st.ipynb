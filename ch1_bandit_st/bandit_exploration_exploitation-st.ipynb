{
 "cells": [
  {
   "cell_type": "code",
   "execution_count": 2,
   "metadata": {
    "executionInfo": {
     "elapsed": 2024,
     "status": "ok",
     "timestamp": 1608912475253,
     "user": {
      "displayName": "김수현",
      "photoUrl": "",
      "userId": "03106063162344337012"
     },
     "user_tz": -540
    },
    "id": "XHl3ZTN6Fxtq"
   },
   "outputs": [],
   "source": [
    "# 패키지 임포트\n",
    "import numpy as np\n",
    "import random\n",
    "import math\n",
    "import pandas as pd\n",
    "import matplotlib.pyplot as plt\n",
    "%matplotlib inline"
   ]
  },
  {
   "cell_type": "code",
   "execution_count": 3,
   "metadata": {
    "executionInfo": {
     "elapsed": 2377,
     "status": "ok",
     "timestamp": 1608912475611,
     "user": {
      "displayName": "김수현",
      "photoUrl": "",
      "userId": "03106063162344337012"
     },
     "user_tz": -540
    },
    "id": "6fI4hciUFxtw"
   },
   "outputs": [],
   "source": [
    "# 슬롯 팔 생성\n",
    "class SlotArm():\n",
    "    # 슬롯 팔 초기화\n",
    "    def __init__(self, p):\n",
    "        self.p = p # 코인이 나올 확률\n",
    "\n",
    "    # 팔을 선택했을 때의 보상 취득\n",
    "    def draw(self):\n",
    "        if self.p > random.random() :\n",
    "            return 1.0\n",
    "        else:\n",
    "            return 0.0"
   ]
  },
  {
   "cell_type": "code",
   "execution_count": 6,
   "metadata": {
    "executionInfo": {
     "elapsed": 3522,
     "status": "ok",
     "timestamp": 1608912476759,
     "user": {
      "displayName": "김수현",
      "photoUrl": "",
      "userId": "03106063162344337012"
     },
     "user_tz": -540
    },
    "id": "yT7QETvRFxtz"
   },
   "outputs": [],
   "source": [
    "# ε-greedy 계산 처리\n",
    "class EpsilonGreedy():\n",
    "    # ε-greedy 계산 처리 초기화\n",
    "    def __init__(self, epsilon):\n",
    "        self.epsilon = epsilon # 탐색하는 확률\n",
    "\n",
    "    # 시행 횟수와 가치 초기화\n",
    "    def initialize(self, n_arms):\n",
    "        self.n = np.zeros(n_arms) # 각 팔의 시행 횟수\n",
    "        self.v = np.zeros(n_arms) # 각 팔의 가치\n",
    "\n",
    "    # 팔 선택\n",
    "    def select_arm(self):\n",
    "        if self.epsilon > random.random() :\n",
    "            # 랜덤으로 팔 선택\n",
    "            return np.random.randint(0, len(self.n))\n",
    "        else:\n",
    "            # 가치가 높은 팔 선택\n",
    "            return np.argmax(self.v)\n",
    "\n",
    "    # 알고리즘 파라미터 갱신\n",
    "    def update(self, chosen_arm, reward, t):\n",
    "        # 선택한 팔의 시행 횟수 +1\n",
    "        self.n[chosen_arm] += 1\n",
    "\n",
    "        # 선택한 팔의 가치 갱신\n",
    "        n = self.n[chosen_arm]\n",
    "        v = self.v[chosen_arm]\n",
    "        self.v[chosen_arm] = (n-1)/float(n)*v + 1/float(n)*reward#벨만방정식\n",
    "\n",
    "    # 문자열 정보 취득\n",
    "    def label(self):\n",
    "        return 'ε-greedy('+str(self.epsilon)+')'"
   ]
  },
  {
   "cell_type": "code",
   "execution_count": 7,
   "metadata": {
    "executionInfo": {
     "elapsed": 3522,
     "status": "ok",
     "timestamp": 1608912476761,
     "user": {
      "displayName": "김수현",
      "photoUrl": "",
      "userId": "03106063162344337012"
     },
     "user_tz": -540
    },
    "id": "_oleyosjFxt2"
   },
   "outputs": [],
   "source": [
    "# UCB1 알고리즘\n",
    "class UCB1():\n",
    "    # 시행 횟수, 성공 횟수, 및 가치 초기화\n",
    "    def initialize(self, n_arms): \n",
    "        self.n = np.zeros(n_arms) # 각 팔의 시행 횟수\n",
    "        self.w = np.zeros(n_arms) # 각 팔의 성공 횟수\n",
    "        self.v = np.zeros(n_arms) # 각 팔의 가치\n",
    "    \n",
    "    # 팔 선택\n",
    "    def select_arm(self):\n",
    "        # n이 모두 1 이상이 되도록 팔을 선택\n",
    "        for i in range(len(self.n)):\n",
    "            if self.n[i] == 0:\n",
    "                return i\n",
    "        \n",
    "        # 가치가 높은 팔을 선택\n",
    "        return np.argmax(self.v)\n",
    "        \n",
    "    # 알고리즘의 파라미터 갱신\n",
    "    def update(self, chosen_arm, reward, ｔ):\n",
    "        # 선택한 팔의 시행 횟수 +1\n",
    "        self.n[chosen_arm] += 1\n",
    "\n",
    "        # 성공 시, 선택한 팔의 성공 횟수 +1\n",
    "        if reward == 1.0:\n",
    "            self.w[chosen_arm] += 1\n",
    "        \n",
    "        # 시행 횟수가 0인 팔이 존재하는 경우에는 가치를 갱신하지 않음\n",
    "        for i in range(len(self.n)):\n",
    "            if self.n[i] == 0:\n",
    "                return\n",
    "        \n",
    "        # 각 팔의 가치 갱신\n",
    "        for i in range(len(self.v)):\n",
    "            #루트는 당장 안씌웠다.\n",
    "            self.v[i] = self.w[i]/self.n[i] + (2*math.log(t)/self.n[i])**0.5\n",
    "        \n",
    "    # 문자열 정보 취득\n",
    "    def label(self):\n",
    "        return 'ucb1'"
   ]
  },
  {
   "cell_type": "code",
   "execution_count": 8,
   "metadata": {
    "executionInfo": {
     "elapsed": 3520,
     "status": "ok",
     "timestamp": 1608912476761,
     "user": {
      "displayName": "김수현",
      "photoUrl": "",
      "userId": "03106063162344337012"
     },
     "user_tz": -540
    },
    "id": "vCvFjhmvFxt5"
   },
   "outputs": [],
   "source": [
    "# 시뮬레이션 실행\n",
    "def play(algo, arms, num_sims, num_time):\n",
    "    # 이력 준비\n",
    "    times = np.zeros(num_sims * num_time) # 게임 횟수 중 몇 번째인가\n",
    "    rewards = np.zeros(num_sims * num_time) # 보상\n",
    "\n",
    "    # 시뮬레이션 횟수 만큼 반복\n",
    "    for sim in range(num_sims):\n",
    "        algo.initialize(len(arms)) # 알고리즘 설정 초기화\n",
    "\n",
    "        # 게임 횟수 만큼 반복\n",
    "        for time in range(num_time):\n",
    "            # 인덱스 계산\n",
    "            index = sim * num_time + time\n",
    "\n",
    "            # 이력 계산\n",
    "            times[index] = time+1\n",
    "            chosen_arm = algo.select_arm()\n",
    "            reward = arms[chosen_arm].draw()\n",
    "            rewards[index] = reward\n",
    "\n",
    "            # 알고리즘 파라미터 갱신\n",
    "            algo.update(chosen_arm, reward, time+1)\n",
    "\n",
    "    # [게임 회차, 보상]\n",
    "    return [times, rewards]"
   ]
  },
  {
   "cell_type": "code",
   "execution_count": 10,
   "metadata": {
    "colab": {
     "base_uri": "https://localhost:8080/",
     "height": 279
    },
    "executionInfo": {
     "elapsed": 8189,
     "status": "ok",
     "timestamp": 1608912481440,
     "user": {
      "displayName": "김수현",
      "photoUrl": "",
      "userId": "03106063162344337012"
     },
     "user_tz": -540
    },
    "id": "rA55x6PlFxt8",
    "outputId": "3e964571-c345-4b4c-954e-e60a1e73133f"
   },
   "outputs": [
    {
     "data": {
      "image/png": "[encoded data removed]",
      "text/plain": [
       "<Figure size 432x288 with 1 Axes>"
      ]
     },
     "metadata": {
      "needs_background": "light"
     },
     "output_type": "display_data"
    }
   ],
   "source": [
    "# 게임 준비\n",
    "arms = (SlotArm(0.3), SlotArm(0.5), SlotArm(0.9))\n",
    "\n",
    "# 알고리즘 준비\n",
    "algos = (EpsilonGreedy(0.1), UCB1())\n",
    "\n",
    "for algo in algos:\n",
    "    # 시뮬레이션 실행\n",
    "    results = play(algo, arms, 1000, 250)\n",
    "    \n",
    "    # 클래스 표시\n",
    "    df = pd.DataFrame({'times': results[0], 'rewards': results[1]})\n",
    "    mean = df['rewards'].groupby(df['times']).mean()\n",
    "    plt.plot(mean, label=algo.label()) \n",
    "\n",
    "# 그래프 표시\n",
    "plt.xlabel('Step')\n",
    "plt.ylabel('Average Reward')\n",
    "plt.legend(loc='best')\n",
    "plt.show()"
   ]
  },
  {
   "cell_type": "code",
   "execution_count": null,
   "metadata": {},
   "outputs": [],
   "source": []
  }
 ],
 "metadata": {
  "accelerator": "GPU",
  "colab": {
   "collapsed_sections": [],
   "name": "4_1_bandit.ipynb",
   "provenance": []
  },
  "kernelspec": {
   "display_name": "Python 3 (ipykernel)",
   "language": "python",
   "name": "python3"
  },
  "language_info": {
   "codemirror_mode": {
    "name": "ipython",
    "version": 3
   },
   "file_extension": ".py",
   "mimetype": "text/x-python",
   "name": "python",
   "nbconvert_exporter": "python",
   "pygments_lexer": "ipython3",
   "version": "3.7.11"
  }
 },
 "nbformat": 4,
 "nbformat_minor": 1
}
